{
 "cells": [
  {
   "cell_type": "code",
   "execution_count": 3,
   "id": "spanish-treaty",
   "metadata": {},
   "outputs": [],
   "source": [
    "import numpy as np\n",
    "import pandas as pd\n",
    "import seaborn as sns\n",
    "import matplotlib.pyplot as plt\n",
    "from sklearn.neural_network import MLPClassifier\n",
    "from sklearn.model_selection import train_test_split, learning_curve\n",
    "from sklearn import metrics, datasets\n",
    "from math import sqrt"
   ]
  },
  {
   "cell_type": "code",
   "execution_count": 4,
   "id": "fifteen-vanilla",
   "metadata": {},
   "outputs": [],
   "source": [
    "iris = datasets.load_iris()"
   ]
  },
  {
   "cell_type": "code",
   "execution_count": 5,
   "id": "french-frame",
   "metadata": {},
   "outputs": [],
   "source": [
    "X = iris.data\n",
    "y = iris.target"
   ]
  },
  {
   "cell_type": "code",
   "execution_count": 6,
   "id": "global-suggestion",
   "metadata": {},
   "outputs": [],
   "source": [
    "X_train, X_test, y_train, y_test = train_test_split(X, y, test_size=0.3, random_state=0)"
   ]
  },
  {
   "cell_type": "code",
   "execution_count": 7,
   "id": "initial-there",
   "metadata": {},
   "outputs": [
    {
     "name": "stdout",
     "output_type": "stream",
     "text": [
      "Amostras para treinamento:  105\n",
      "Amostras para testes:  45\n"
     ]
    }
   ],
   "source": [
    "print(\"Amostras para treinamento: \", len(X_train))\n",
    "print(\"Amostras para testes: \",len(X_test))"
   ]
  },
  {
   "cell_type": "code",
   "execution_count": 19,
   "id": "pointed-grass",
   "metadata": {},
   "outputs": [],
   "source": [
    "clf = MLPClassifier(solver='lbfgs', alpha=1e-5, hidden_layer_sizes=(3,3), random_state =1)"
   ]
  },
  {
   "cell_type": "code",
   "execution_count": 20,
   "id": "favorite-resolution",
   "metadata": {},
   "outputs": [
    {
     "name": "stdout",
     "output_type": "stream",
     "text": [
      "[2 1 0 2 0 2 0 1 1 1 2 1 1 1 1 0 1 1 0 0 2 1 0 0 2 0 0 1 1 0 2 1 0 2 2 1 0\n",
      " 2 1 1 2 0 2 0 0]\n"
     ]
    }
   ],
   "source": [
    "clf.fit(X_train, y_train)\n",
    "prediction = clf.predict(X_test)\n",
    "print(prediction)"
   ]
  },
  {
   "cell_type": "code",
   "execution_count": 21,
   "id": "homeless-psychiatry",
   "metadata": {},
   "outputs": [
    {
     "name": "stdout",
     "output_type": "stream",
     "text": [
      "[2 1 0 2 0 2 0 1 1 1 2 1 1 1 1 0 1 1 0 0 2 1 0 0 2 0 0 1 1 0 2 1 0 2 2 1 0\n",
      " 1 1 1 2 0 2 0 0]\n"
     ]
    }
   ],
   "source": [
    "print(y_test)"
   ]
  },
  {
   "cell_type": "code",
   "execution_count": 22,
   "id": "painful-burns",
   "metadata": {},
   "outputs": [
    {
     "name": "stdout",
     "output_type": "stream",
     "text": [
      "Acurácia:  0.9777777777777777\n",
      "MSE:  0.022222222222222223\n",
      "RMSE:  0.14907119849998599\n"
     ]
    }
   ],
   "source": [
    "print('Acurácia: ', metrics.accuracy_score(prediction, y_test))\n",
    "print('MSE: ', metrics.mean_squared_error(prediction, y_test))\n",
    "print('RMSE: ', sqrt(metrics.mean_squared_error(prediction, y_test)))"
   ]
  },
  {
   "cell_type": "code",
   "execution_count": 23,
   "id": "jewish-support",
   "metadata": {},
   "outputs": [
    {
     "name": "stderr",
     "output_type": "stream",
     "text": [
      "/home/pedro/Github/Venvs/tcc-tf/lib/python3.8/site-packages/sklearn/neural_network/_multilayer_perceptron.py:500: ConvergenceWarning: lbfgs failed to converge (status=2):\n",
      "ABNORMAL_TERMINATION_IN_LNSRCH.\n",
      "\n",
      "Increase the number of iterations (max_iter) or scale the data as shown in:\n",
      "    https://scikit-learn.org/stable/modules/preprocessing.html\n",
      "  self.n_iter_ = _check_optimize_result(\"lbfgs\", opt_res, self.max_iter)\n"
     ]
    }
   ],
   "source": [
    "# Getting learning curve\n",
    "train_sizes, train_scores, valid_scores = learning_curve(clf, X, y, cv=10)"
   ]
  },
  {
   "cell_type": "code",
   "execution_count": 24,
   "id": "intensive-earth",
   "metadata": {},
   "outputs": [
    {
     "name": "stdout",
     "output_type": "stream",
     "text": [
      "[ 13  43  74 104 135]\n"
     ]
    }
   ],
   "source": [
    "# Sample amount at training\n",
    "print(train_sizes)"
   ]
  },
  {
   "cell_type": "code",
   "execution_count": 25,
   "id": "collected-cabinet",
   "metadata": {},
   "outputs": [
    {
     "name": "stdout",
     "output_type": "stream",
     "text": [
      "[[1.         1.         1.         1.         1.         1.\n",
      "  1.         1.         1.         1.        ]\n",
      " [1.         1.         1.         1.         1.         1.\n",
      "  1.         1.         1.         1.        ]\n",
      " [1.         1.         1.         1.         1.         1.\n",
      "  1.         1.         1.         1.        ]\n",
      " [1.         1.         0.97115385 0.98076923 0.90384615 0.97115385\n",
      "  0.89423077 0.98076923 1.         0.99038462]\n",
      " [0.97777778 0.98518519 0.99259259 0.99259259 0.99259259 0.99259259\n",
      "  1.         0.99259259 0.99259259 0.97777778]]\n"
     ]
    }
   ],
   "source": [
    "print(train_scores)"
   ]
  },
  {
   "cell_type": "code",
   "execution_count": 26,
   "id": "utility-contact",
   "metadata": {},
   "outputs": [
    {
     "name": "stdout",
     "output_type": "stream",
     "text": [
      "[[0.33333333 0.33333333 0.33333333 0.33333333 0.33333333 0.33333333\n",
      "  0.33333333 0.33333333 0.33333333 0.33333333]\n",
      " [0.33333333 0.33333333 0.33333333 0.33333333 0.33333333 0.33333333\n",
      "  0.33333333 0.33333333 0.33333333 0.33333333]\n",
      " [0.66666667 0.66666667 0.66666667 0.66666667 0.66666667 0.66666667\n",
      "  0.66666667 0.66666667 0.66666667 0.66666667]\n",
      " [1.         1.         0.93333333 1.         0.8        1.\n",
      "  0.86666667 0.86666667 1.         0.73333333]\n",
      " [1.         1.         1.         1.         0.86666667 1.\n",
      "  0.86666667 1.         1.         1.        ]]\n"
     ]
    }
   ],
   "source": [
    "print(valid_scores)"
   ]
  },
  {
   "cell_type": "code",
   "execution_count": 27,
   "id": "available-occupation",
   "metadata": {},
   "outputs": [
    {
     "data": {
      "image/png": "[encoded data removed]",
      "text/plain": [
       "<Figure size 432x288 with 1 Axes>"
      ]
     },
     "metadata": {
      "needs_background": "light"
     },
     "output_type": "display_data"
    }
   ],
   "source": [
    "plt.plot(train_sizes, train_scores, 'ro')\n",
    "plt.plot(train_sizes, valid_scores, 'bo')\n",
    "plt.show()"
   ]
  },
  {
   "cell_type": "code",
   "execution_count": 28,
   "id": "aging-standard",
   "metadata": {},
   "outputs": [
    {
     "data": {
      "image/png": "[encoded data removed]",
      "text/plain": [
       "<Figure size 432x288 with 1 Axes>"
      ]
     },
     "metadata": {
      "needs_background": "light"
     },
     "output_type": "display_data"
    }
   ],
   "source": [
    "# Mesmo grafico só que fodastico, tah, nem tando\n",
    "param_range = np.logspace(-6,-1,5)\n",
    "train_scores_mean = np.mean(train_scores, axis=1)\n",
    "train_scores_std = np.std(train_scores, axis=1)\n",
    "valid_scores_mean = np.mean(valid_scores, axis=1)\n",
    "valid_scores_std = np.std(valid_scores, axis=1)\n",
    "\n",
    "plt.title(\"Curva de validação do MLP\")\n",
    "plt.xlabel(\"Número de Amostras\")\n",
    "plt.ylabel(\"Score / Desempenho\")\n",
    "plt.ylim(0.0, 1.1)\n",
    "lw = 2\n",
    "\n",
    "plt.semilogx(param_range, train_scores_mean, label=\"Training Scores\", color=\"darkorange\", lw=lw)\n",
    "plt.fill_between(param_range, train_scores_mean - train_scores_std, train_scores_mean + train_scores_std, alpha=0.2, color=\"darkorange\", lw=lw)\n",
    "plt.semilogx(param_range, valid_scores_mean, label=\"Cross-Validation Scores\", color=\"navy\", lw=lw)\n",
    "plt.fill_between(param_range, valid_scores_mean - valid_scores_std, valid_scores_mean + valid_scores_std, alpha=0.2, color=\"navy\", lw=lw)\n",
    "plt.legend(loc=\"best\")\n",
    "plt.show()"
   ]
  },
  {
   "cell_type": "code",
   "execution_count": 31,
   "id": "returning-enclosure",
   "metadata": {},
   "outputs": [
    {
     "name": "stdout",
     "output_type": "stream",
     "text": [
      "Acurácia:  0.9777777777777777\n",
      "MSE:  0.022222222222222223\n",
      "RMSE:  0.14907119849998599\n"
     ]
    },
    {
     "data": {
      "image/png": "[encoded data removed]",
      "text/plain": [
       "<Figure size 432x288 with 1 Axes>"
      ]
     },
     "metadata": {
      "needs_background": "light"
     },
     "output_type": "display_data"
    }
   ],
   "source": [
    "clf = MLPClassifier(solver='adam', alpha=1e-5, hidden_layer_sizes=(5), random_state=1, max_iter=5000)\n",
    "clf.fit(X, y)\n",
    "\n",
    "print('Acurácia: ', metrics.accuracy_score(prediction, y_test))\n",
    "print('MSE: ', metrics.mean_squared_error(prediction, y_test))\n",
    "print('RMSE: ', sqrt(metrics.mean_squared_error(prediction, y_test)))\n",
    "\n",
    "plt.title(\"Curva de aprendizagem LR=\"+str(0.0001))\n",
    "plt.ylabel(\"Função de custo\")\n",
    "plt.xlabel(\"Número de Épocas\")\n",
    "plt.plot(clf.loss_curve_)\n",
    "plt.show()"
   ]
  },
  {
   "cell_type": "code",
   "execution_count": 32,
   "id": "enabling-payroll",
   "metadata": {},
   "outputs": [
    {
     "data": {
      "image/png": "[encoded data removed]",
      "text/plain": [
       "<Figure size 432x288 with 1 Axes>"
      ]
     },
     "metadata": {
      "needs_background": "light"
     },
     "output_type": "display_data"
    }
   ],
   "source": [
    "n_max = 50\n",
    "acc = []\n",
    "for i in range(1, n_max):\n",
    "    clf = MLPClassifier(solver='adam', alpha=1e-5, hidden_layer_sizes=(i), random_state=1, max_iter=5000)\n",
    "    clf.fit(X, y)\n",
    "    prediction = clf.predict(X_test)\n",
    "    acc.append(metrics.accuracy_score(prediction, y_test))\n",
    "    \n",
    "plt.title(\"Teste de números de neurônios\")\n",
    "plt.ylabel(\"Acurácia\")\n",
    "plt.xlabel(\"Número de neurônios\")\n",
    "plt.plot(acc)\n",
    "plt.show()"
   ]
  }
 ],
 "metadata": {
  "kernelspec": {
   "display_name": "Python 3",
   "language": "python",
   "name": "python3"
  },
  "language_info": {
   "codemirror_mode": {
    "name": "ipython",
    "version": 3
   },
   "file_extension": ".py",
   "mimetype": "text/x-python",
   "name": "python",
   "nbconvert_exporter": "python",
   "pygments_lexer": "ipython3",
   "version": "3.8.7+"
  }
 },
 "nbformat": 4,
 "nbformat_minor": 5
}
